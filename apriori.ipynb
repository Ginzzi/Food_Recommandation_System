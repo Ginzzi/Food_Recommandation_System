from problem_data import *
from utils import *

 
training_dataframeX = dataframe[:int(0.7*len(dataframe))]
 
print(training_dataframeX)

def support(data, elem):
    m = len(data)
    elem = frozenset(elem)
    counter = 0
    for item_list in data:
        item = frozenset(item_list)
        #print("item", item)
        if elem.issubset(item):
            counter+=1
    return counter / m


def confidence(data,X,Y):
    xFroz = frozenset(X)
    yFroz = frozenset(Y)
    counterX = 0
    counterY = 0
    for item_list in data :
        item = frozenset(item_list)
        if xFroz.issubset(item_list):
            counterX+=1
            if yFroz.issubset(item_list):
                counterY+=1
    
    return counterY/counterX
    


def apriori_generation(Li_minus_1,i):
    Ci = []
    for I in Li_minus_1:
        I_bis = frozenset(I)
        for J in Li_minus_1 :
            J_bis = frozenset(J)
            if I_bis != J_bis :
                if len(I_bis.intersection(J_bis))== i-2:
                    res = I_bis.union(J_bis)
                    if res not in Ci:
                        Ci.append(res)
    return Ci
                

def apriori(items,data,supportmin):
    Li = []
    for item in items:
        #print("item: ", item)
        supp = support(data, item)
        #print("supp1", supp)
        if supp >= supportmin:
            item_bis = frozenset(item)
            Li.append(item_bis)
    L = Li
    i = 1
    while len(Li)>0 :
        i += 1
        Ci = apriori_generation(Li,i)
        Li = []
        for c in Ci:
            supp = support(data,c)
            #print("supp2", supp)
            if supp >= supportmin:
                    item_bis = frozenset(c)
                    Li.append(item_bis)
                    L.append(item_bis)
    return L



def generate_list_of_list(item):
    L = []
    for elem in item:
        L.append([elem])
    return L

def generate_all_subspaces(data):
    Li= []
    items = generate_list_of_list(data)
    for item in items:
        item_bis = frozenset(item)
        Li.append(item_bis)
    L = Li
    i = 1
    for j in range(len(data)-1):
        i += 1
        Ci = apriori_generation(Li,i)
        
        for c in Ci:
            item_bis = frozenset(c)
            if item_bis not in L :
                L.append(item_bis)
    return L

    

def create_all_item_rules(item, data, confidencemin):
    res = []
    L = generate_all_subspaces(item)
    for elem in L:
        for elem2 in L:
            if elem!= elem2:
                if elem.union(elem2) == frozenset(item):
                    if elem.intersection(elem2)== frozenset():
                        if confidence(data,elem,elem2)>= confidencemin:
                            conf = confidence(data,elem,elem2)
                            tmp = elem.union(elem2)
                            supp = support(data,tmp)
                            res.append([supp,conf,elem, elem2])
                            #print("1 : ", elem)
                            #print("2 : ", elem2)
                            #print("confidence :",conf)
                            #print("support : ",supp)
    return res


def learnrules(supportmin,confidencemin, items, data): 
    PotentialRules = apriori(items,data,supportmin)
    res = []
    for rule in PotentialRules:
            resInt = create_all_item_rules(rule,data, confidencemin)
            res = res + resInt
            
    return res



def permutation(L, i1, i2):
    tmp = L[i1]
    L[i1] = L[i2]
    L[i2] = tmp
    return L
    

def sort_with_confidence(rules):
    maxval = -1
    index = -1
    for i in range(len(rules)):
        maxval = -1
        index = -1
        for j in range (i,len(rules)) :
            conf_j = rules[j][1]
            #print("rule_j:   ", rules[j])
            #print("conf_j:   ", conf_j)
            #print("maxval:   ",  maxval)
            if conf_j > maxval:
                maxval = conf_j
                index = j
        rules = permutation(rules,index,i)
    return rules


def list_numbers_to_list_names(list_arg):
    string = ""
    for elem in list_arg:
        name = [elem]
        string += name + ', '
    return string

def writerules(rules,data,itemnames): 
    hist = []
    for i, rule in enumerate(rules):
        if rule not in hist:
            hist.append(rule)
            lhs = rule[2]
            rhs = rule[3]
            supp = rule[0]
            conf = rule[1]
            print("{0}   {1}   {2} => {3}".format(supp, "{:7.4f}".format(conf), lhs, rhs))
            
            
def printruleset(datasetfilename,minsupport,minconfidence):
    (itemnames,data,numitems) = loaddata(datasetfilename)
    items = [[i] for i in range(len(itemnames))]
    rules = learnrules(minsupport, minconfidence, items, data)
    rules = sort_with_confidence(rules)
    writerules(rules,data,itemnames)



def list_of_ingredients_in_recipe_index(index_recipe):
    """ 
    Returns a list containing all of the "ingredients" in a
    specific recipe
    """
    list_of_ingredients = []
    dataline = dataframe.iloc[[index_recipe]]
    for elem in dataline:
        for value in dataline[elem]:
            if isinstance(value, str):
                pass
            elif isinstance(value, float):
                if value == 1.0:
                    list_of_ingredients.append(elem)
    return list_of_ingredients
    


def create_apriori_data(dataframe):
    data = []
    for i in range(len(dataframe)):
        data.append(list_of_ingredients_in_recipe_index(i))
    return data

def total_list_of_ingredients():
    """ 
    We print all of the "ingredients" present in the dataset
    We delete title, rating, calories, protein, fat and sodium columns
    """
    result = list(dataframe.columns.copy())
    result.remove('title')
    result.remove('good_rating')
    result.remove('bad_rating')
    result.remove('calories')
    result.remove('protein')
    result.remove('fat')
    result.remove('sodium')
    
    return result

dataframe = dataframe[:100]
data = create_apriori_data(dataframe)
list_of_ingredients = total_list_of_ingredients()
list_of_ingredients = [[elem] for elem in list_of_ingredients]
print(data)
print(list_of_ingredients)
rules = learnrules(0.2, 0.1, list_of_ingredients, data)
rules = sort_with_confidence(rules)
print(rules)
writerules(rules,data,list_of_ingredients)
